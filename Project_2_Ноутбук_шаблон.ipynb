{
  "cells": [
    {
      "cell_type": "markdown",
      "id": "42289889-bd57-434e-9637-d3e354756316",
      "metadata": {
        "id": "42289889-bd57-434e-9637-d3e354756316"
      },
      "source": [
        "<center> <img src = https://raw.githubusercontent.com/AndreyRysistov/DatasetsForPandas/main/hh%20label.jpg alt=\"drawing\" style=\"width:400px;\">"
      ]
    },
    {
      "cell_type": "markdown",
      "id": "829cb75b-f14e-4ba8-9195-7ba929a7d656",
      "metadata": {
        "id": "829cb75b-f14e-4ba8-9195-7ba929a7d656",
        "tags": []
      },
      "source": [
        "# <center> Проект: Анализ вакансий из HeadHunter\n",
        "   "
      ]
    },
    {
      "cell_type": "code",
      "execution_count": 1,
      "id": "dccfde33-2452-43fb-a8a5-5c6ebc02a71d",
      "metadata": {
        "id": "dccfde33-2452-43fb-a8a5-5c6ebc02a71d"
      },
      "outputs": [],
      "source": [
        "import pandas as pd\n",
        "import psycopg2\n",
        "import warnings # дополнительная библиотека для игнорирования предупреждений\n",
        "import plotly.express as px"
      ]
    },
    {
      "cell_type": "code",
      "execution_count": 2,
      "id": "8aad7360",
      "metadata": {},
      "outputs": [],
      "source": [
        "# Устанавливаем игнорирование разного рода предупреждений, чтобы сделать ноутбук более чистым \n",
        "\n",
        "categories_to_ignore = [\n",
        "    DeprecationWarning,\n",
        "    FutureWarning,\n",
        "    UserWarning\n",
        "]\n",
        "\n",
        "for warn_ignore in categories_to_ignore:\n",
        "    warnings.filterwarnings(\"ignore\", category=warn_ignore)"
      ]
    },
    {
      "cell_type": "code",
      "execution_count": 5,
      "id": "G4X_q8KBf7SF",
      "metadata": {
        "id": "G4X_q8KBf7SF"
      },
      "outputs": [],
      "source": [
        "connection = psycopg2.connect(\n",
        "    dbname=DBNAME,\n",
        "    user=USER,\n",
        "    host=HOST,\n",
        "    password=PASSWORD,\n",
        "    port=PORT\n",
        ")"
      ]
    },
    {
      "cell_type": "markdown",
      "id": "0dc6476b-7a00-44f1-ac93-6e3baed33a29",
      "metadata": {
        "id": "0dc6476b-7a00-44f1-ac93-6e3baed33a29"
      },
      "source": [
        "# Юнит 3. Предварительный анализ данных"
      ]
    },
    {
      "cell_type": "markdown",
      "id": "889782b6-8d1c-410e-8920-e57f27917c64",
      "metadata": {
        "id": "889782b6-8d1c-410e-8920-e57f27917c64"
      },
      "source": [
        "1. Напишите запрос, который посчитает количество вакансий в нашей базе (вакансии находятся в таблице vacancies). "
      ]
    },
    {
      "cell_type": "code",
      "execution_count": 10,
      "id": "bc39e68e-ed02-4ee2-9235-7258a2f867a8",
      "metadata": {
        "id": "bc39e68e-ed02-4ee2-9235-7258a2f867a8"
      },
      "outputs": [],
      "source": [
        "# запрос на подсчет общего количества вакансий в базе\n",
        "query_3_1 = f'''select \n",
        "                    count(*)\n",
        "                from vacancies\n",
        "            '''"
      ]
    },
    {
      "cell_type": "code",
      "execution_count": 28,
      "id": "7mAwtsk4hEHY",
      "metadata": {
        "id": "7mAwtsk4hEHY"
      },
      "outputs": [
        {
          "name": "stdout",
          "output_type": "stream",
          "text": [
            "Всего в базе данных 49197 вакансий\n"
          ]
        }
      ],
      "source": [
        "# результат запроса\n",
        "vacancy_qty = pd.read_sql_query(query_3_1, connection)\n",
        "\n",
        "print(f'Всего в базе данных {vacancy_qty.loc[0][0]} вакансий')"
      ]
    },
    {
      "cell_type": "markdown",
      "id": "b583485d-1f9e-494e-ada4-80ffff7c53d6",
      "metadata": {
        "id": "b583485d-1f9e-494e-ada4-80ffff7c53d6"
      },
      "source": [
        "2. Напишите запрос, который посчитает количество работодателей (таблица employers). "
      ]
    },
    {
      "cell_type": "code",
      "execution_count": 34,
      "id": "5408c52c-3407-4a63-b25b-1aafa2322d28",
      "metadata": {
        "id": "5408c52c-3407-4a63-b25b-1aafa2322d28"
      },
      "outputs": [],
      "source": [
        "# текст запроса\n",
        "query_emplrs_qty = '''select \n",
        "                count(id)\n",
        "            from employers'''"
      ]
    },
    {
      "cell_type": "code",
      "execution_count": 37,
      "id": "jVL4eshKhdqc",
      "metadata": {
        "id": "jVL4eshKhdqc"
      },
      "outputs": [
        {
          "name": "stdout",
          "output_type": "stream",
          "text": [
            "Всего в базе данных 23501 работадателя\n"
          ]
        }
      ],
      "source": [
        "# результат запроса\n",
        "emplrs_qty = pd.read_sql_query(query_emplrs_qty, connection)\n",
        "\n",
        "print(f'Всего в базе данных {emplrs_qty.loc[0][0]} работадателя')"
      ]
    },
    {
      "cell_type": "markdown",
      "id": "a2bfff1f-c975-4bf6-84be-2185d79dcb76",
      "metadata": {
        "id": "a2bfff1f-c975-4bf6-84be-2185d79dcb76"
      },
      "source": [
        "3. Посчитате с помощью запроса количество регионов (таблица areas)."
      ]
    },
    {
      "cell_type": "code",
      "execution_count": 38,
      "id": "1m8QJwBYhey6",
      "metadata": {
        "id": "1m8QJwBYhey6"
      },
      "outputs": [],
      "source": [
        "# текст запроса\n",
        "query_areas_qty = '''select \n",
        "                count(id)\n",
        "            from areas'''"
      ]
    },
    {
      "cell_type": "code",
      "execution_count": 39,
      "id": "EZsn9tlfhe7f",
      "metadata": {
        "id": "EZsn9tlfhe7f"
      },
      "outputs": [
        {
          "name": "stdout",
          "output_type": "stream",
          "text": [
            "Всего в базе данных 1362 региона\n"
          ]
        }
      ],
      "source": [
        "# результат запроса\n",
        "areas_qty = pd.read_sql_query(query_areas_qty, connection)\n",
        "\n",
        "print(f'Всего в базе данных {areas_qty.loc[0][0]} региона')"
      ]
    },
    {
      "cell_type": "markdown",
      "id": "41bb59f3-53cc-4a67-a5bc-bedf573955e4",
      "metadata": {
        "id": "41bb59f3-53cc-4a67-a5bc-bedf573955e4"
      },
      "source": [
        "4. Посчитате с помощью запроса количество сфер деятельности в базе (таблица industries)."
      ]
    },
    {
      "cell_type": "code",
      "execution_count": 5,
      "id": "d286cf4c-707b-4cd2-9190-7ab3587d04a1",
      "metadata": {
        "id": "d286cf4c-707b-4cd2-9190-7ab3587d04a1"
      },
      "outputs": [],
      "source": [
        "# текст запроса\n",
        "query_industr_qty = '''select \n",
        "                count(id)\n",
        "            from industries'''"
      ]
    },
    {
      "cell_type": "code",
      "execution_count": 6,
      "id": "JYAaoZ4qhfzW",
      "metadata": {
        "id": "JYAaoZ4qhfzW"
      },
      "outputs": [
        {
          "name": "stdout",
          "output_type": "stream",
          "text": [
            "Всего в базе данных 294 сферы деятельности\n"
          ]
        }
      ],
      "source": [
        "# результат запроса\n",
        "industr_qty = pd.read_sql_query(query_industr_qty, connection)\n",
        "\n",
        "print(f'Всего в базе данных {industr_qty.loc[0][0]} сферы деятельности')"
      ]
    },
    {
      "cell_type": "markdown",
      "id": "9a8a2181-6914-448b-85f1-38f5f18b8a93",
      "metadata": {
        "id": "9a8a2181-6914-448b-85f1-38f5f18b8a93"
      },
      "source": [
        "***"
      ]
    },
    {
      "cell_type": "markdown",
      "id": "be4e9bd3-a4db-4a20-82fb-6b02fc2957e0",
      "metadata": {
        "id": "be4e9bd3-a4db-4a20-82fb-6b02fc2957e0"
      },
      "source": [
        "Выводы: Всего в базе присутствует около 50_000 вакансий\n",
        "В базе около 23_500 работадателей т.е в среднем по 2 вакансии на 1 работадателя\n",
        "В базе 1362 региона, показатель достаточно большой значит дробление по регионам, города, поселкам и т.д.\n",
        "В базе около 300 сфер деятельности что свидетельствует о достаточно разнородности данных"
      ]
    },
    {
      "cell_type": "markdown",
      "id": "8d62a9f3-f64e-4fe7-bdac-c4dffa16155e",
      "metadata": {
        "id": "8d62a9f3-f64e-4fe7-bdac-c4dffa16155e"
      },
      "source": [
        "# Юнит 4. Детальный анализ вакансий"
      ]
    },
    {
      "cell_type": "markdown",
      "id": "93053d3d-b284-481a-9cf7-012d7014c0e0",
      "metadata": {
        "id": "93053d3d-b284-481a-9cf7-012d7014c0e0"
      },
      "source": [
        "1. Напишите запрос, который позволит узнать, сколько (cnt) вакансий в каждом регионе (area).\n",
        "Отсортируйте по количеству вакансий в порядке убывания."
      ]
    },
    {
      "cell_type": "code",
      "execution_count": 7,
      "id": "3f069da6-fdc9-4ae7-b514-fafe2675efd3",
      "metadata": {
        "id": "3f069da6-fdc9-4ae7-b514-fafe2675efd3"
      },
      "outputs": [],
      "source": [
        "# текст запроса\n",
        "query_areas_cnt = '''select \n",
        "                        ar.name area\n",
        "                        ,count(vac.id) cnt\n",
        "                    from vacancies vac\n",
        "                        join areas ar on vac.area_id = ar.id\n",
        "                    group by 1\n",
        "                    order by 2 desc'''"
      ]
    },
    {
      "cell_type": "code",
      "execution_count": 8,
      "id": "P7QL86hrjhRJ",
      "metadata": {
        "id": "P7QL86hrjhRJ"
      },
      "outputs": [
        {
          "data": {
            "text/html": [
              "<div>\n",
              "<style scoped>\n",
              "    .dataframe tbody tr th:only-of-type {\n",
              "        vertical-align: middle;\n",
              "    }\n",
              "\n",
              "    .dataframe tbody tr th {\n",
              "        vertical-align: top;\n",
              "    }\n",
              "\n",
              "    .dataframe thead th {\n",
              "        text-align: right;\n",
              "    }\n",
              "</style>\n",
              "<table border=\"1\" class=\"dataframe\">\n",
              "  <thead>\n",
              "    <tr style=\"text-align: right;\">\n",
              "      <th></th>\n",
              "      <th>area</th>\n",
              "      <th>cnt</th>\n",
              "    </tr>\n",
              "  </thead>\n",
              "  <tbody>\n",
              "    <tr>\n",
              "      <th>0</th>\n",
              "      <td>Москва</td>\n",
              "      <td>5333</td>\n",
              "    </tr>\n",
              "    <tr>\n",
              "      <th>1</th>\n",
              "      <td>Санкт-Петербург</td>\n",
              "      <td>2851</td>\n",
              "    </tr>\n",
              "    <tr>\n",
              "      <th>2</th>\n",
              "      <td>Минск</td>\n",
              "      <td>2112</td>\n",
              "    </tr>\n",
              "    <tr>\n",
              "      <th>3</th>\n",
              "      <td>Новосибирск</td>\n",
              "      <td>2006</td>\n",
              "    </tr>\n",
              "    <tr>\n",
              "      <th>4</th>\n",
              "      <td>Алматы</td>\n",
              "      <td>1892</td>\n",
              "    </tr>\n",
              "  </tbody>\n",
              "</table>\n",
              "</div>"
            ],
            "text/plain": [
              "              area   cnt\n",
              "0           Москва  5333\n",
              "1  Санкт-Петербург  2851\n",
              "2            Минск  2112\n",
              "3      Новосибирск  2006\n",
              "4           Алматы  1892"
            ]
          },
          "execution_count": 8,
          "metadata": {},
          "output_type": "execute_result"
        }
      ],
      "source": [
        "# Вывел только первые 5 самых больших по числу вакансий региона, чтобы не захламлять ноутбук\n",
        "areas_cnt = pd.read_sql_query(query_areas_cnt, connection)\n",
        "\n",
        "areas_cnt.head()"
      ]
    },
    {
      "cell_type": "markdown",
      "id": "4266f0b6-1646-492a-88b4-2f6a46502135",
      "metadata": {
        "id": "4266f0b6-1646-492a-88b4-2f6a46502135"
      },
      "source": [
        "2. Напишите запрос, чтобы определить у какого количества вакансий заполнено хотя бы одно из двух полей с зарплатой."
      ]
    },
    {
      "cell_type": "code",
      "execution_count": 9,
      "id": "0c44b350-72eb-4d65-8b54-a1fc449ba9fd",
      "metadata": {
        "id": "0c44b350-72eb-4d65-8b54-a1fc449ba9fd"
      },
      "outputs": [],
      "source": [
        "# текст запроса\n",
        "query_vacancy_with_salary = '''select \n",
        "                                    count(id)\n",
        "                                from vacancies \n",
        "                                where \n",
        "                                    salary_from is not null \n",
        "                                    or salary_to is not null'''"
      ]
    },
    {
      "cell_type": "code",
      "execution_count": 10,
      "id": "rhvwaMDkoWTi",
      "metadata": {
        "id": "rhvwaMDkoWTi"
      },
      "outputs": [
        {
          "name": "stdout",
          "output_type": "stream",
          "text": [
            "Количество вакансий которые имеют указание о зарплатном уровне 24073\n"
          ]
        }
      ],
      "source": [
        "# результат запроса\n",
        "vacancy_with_salary = pd.read_sql_query(query_vacancy_with_salary, connection)\n",
        "\n",
        "print(f'Количество вакансий которые имеют указание о зарплатном уровне {vacancy_with_salary.loc[0][0]}')"
      ]
    },
    {
      "cell_type": "markdown",
      "id": "635c4d5d-f323-4c66-b428-50a088120aa0",
      "metadata": {
        "id": "635c4d5d-f323-4c66-b428-50a088120aa0"
      },
      "source": [
        "3. Найдите средние значения для нижней и верхней границы зарплатной вилки. Округлите значения до целого."
      ]
    },
    {
      "cell_type": "code",
      "execution_count": 199,
      "id": "603cdbe4-0ec3-4106-8eaf-c73fcdd29165",
      "metadata": {
        "id": "603cdbe4-0ec3-4106-8eaf-c73fcdd29165"
      },
      "outputs": [],
      "source": [
        "query_salary_level = '''select \n",
        "                            salary_from\n",
        "                            ,salary_to\n",
        "                        from vacancies \n",
        "                        where \n",
        "                            salary_from is not null \n",
        "                            or salary_to is not null'''\n",
        "                                    "
      ]
    },
    {
      "cell_type": "code",
      "execution_count": 204,
      "id": "pswpAb66ovZZ",
      "metadata": {
        "id": "pswpAb66ovZZ"
      },
      "outputs": [
        {
          "name": "stdout",
          "output_type": "stream",
          "text": [
            "Среднее значение для нижней границы равно 71065, для верхней 110537\n"
          ]
        }
      ],
      "source": [
        "# Делаем запрос к базе, формируем 2 отдельные переменные для ответа на вопросы задания, выводим результат\n",
        "salary_level = pd.read_sql_query(query_salary_level, connection)\n",
        "\n",
        "salary_from_mean = round(salary_level.salary_from.mean(), 0)\n",
        "salary_to_mean = round(salary_level.salary_to.mean(), 0)\n",
        "\n",
        "print('Среднее значение для нижней границы равно {:.0f}, для верхней {:.0f}'.format(salary_from_mean, salary_to_mean))"
      ]
    },
    {
      "cell_type": "markdown",
      "id": "f3fdaec9-5fd3-4260-9cf5-1d7406b628a5",
      "metadata": {
        "id": "f3fdaec9-5fd3-4260-9cf5-1d7406b628a5"
      },
      "source": [
        "4. Напишите запрос, который выведет количество вакансий для каждого сочетания типа рабочего графика (schedule) и типа трудоустройства (employment), используемого в вакансиях. Результат отсортируйте по убыванию количества.\n"
      ]
    },
    {
      "cell_type": "code",
      "execution_count": 205,
      "id": "1ea710ec-871b-431e-9462-c7d0fd87011b",
      "metadata": {
        "id": "1ea710ec-871b-431e-9462-c7d0fd87011b"
      },
      "outputs": [],
      "source": [
        "# текст запроса\n",
        "query_schedule_employment = '''select \n",
        "                                    schedule\n",
        "                                    ,employment\n",
        "                                    ,count(id) vacancy_qty\n",
        "                                from vacancies\n",
        "                                group by 1, 2'''"
      ]
    },
    {
      "cell_type": "code",
      "execution_count": 207,
      "id": "lGUVqavdo4JQ",
      "metadata": {
        "id": "lGUVqavdo4JQ"
      },
      "outputs": [
        {
          "data": {
            "text/html": [
              "<div>\n",
              "<style scoped>\n",
              "    .dataframe tbody tr th:only-of-type {\n",
              "        vertical-align: middle;\n",
              "    }\n",
              "\n",
              "    .dataframe tbody tr th {\n",
              "        vertical-align: top;\n",
              "    }\n",
              "\n",
              "    .dataframe thead th {\n",
              "        text-align: right;\n",
              "    }\n",
              "</style>\n",
              "<table border=\"1\" class=\"dataframe\">\n",
              "  <thead>\n",
              "    <tr style=\"text-align: right;\">\n",
              "      <th></th>\n",
              "      <th>index</th>\n",
              "      <th>schedule</th>\n",
              "      <th>employment</th>\n",
              "      <th>vacancy_qty</th>\n",
              "    </tr>\n",
              "  </thead>\n",
              "  <tbody>\n",
              "    <tr>\n",
              "      <th>0</th>\n",
              "      <td>14</td>\n",
              "      <td>Полный день</td>\n",
              "      <td>Полная занятость</td>\n",
              "      <td>35367</td>\n",
              "    </tr>\n",
              "    <tr>\n",
              "      <th>1</th>\n",
              "      <td>11</td>\n",
              "      <td>Удаленная работа</td>\n",
              "      <td>Полная занятость</td>\n",
              "      <td>7802</td>\n",
              "    </tr>\n",
              "    <tr>\n",
              "      <th>2</th>\n",
              "      <td>9</td>\n",
              "      <td>Гибкий график</td>\n",
              "      <td>Полная занятость</td>\n",
              "      <td>1593</td>\n",
              "    </tr>\n",
              "    <tr>\n",
              "      <th>3</th>\n",
              "      <td>15</td>\n",
              "      <td>Удаленная работа</td>\n",
              "      <td>Частичная занятость</td>\n",
              "      <td>1312</td>\n",
              "    </tr>\n",
              "    <tr>\n",
              "      <th>4</th>\n",
              "      <td>12</td>\n",
              "      <td>Сменный график</td>\n",
              "      <td>Полная занятость</td>\n",
              "      <td>940</td>\n",
              "    </tr>\n",
              "    <tr>\n",
              "      <th>5</th>\n",
              "      <td>1</td>\n",
              "      <td>Полный день</td>\n",
              "      <td>Стажировка</td>\n",
              "      <td>569</td>\n",
              "    </tr>\n",
              "    <tr>\n",
              "      <th>6</th>\n",
              "      <td>16</td>\n",
              "      <td>Вахтовый метод</td>\n",
              "      <td>Полная занятость</td>\n",
              "      <td>367</td>\n",
              "    </tr>\n",
              "    <tr>\n",
              "      <th>7</th>\n",
              "      <td>7</td>\n",
              "      <td>Полный день</td>\n",
              "      <td>Частичная занятость</td>\n",
              "      <td>347</td>\n",
              "    </tr>\n",
              "    <tr>\n",
              "      <th>8</th>\n",
              "      <td>13</td>\n",
              "      <td>Гибкий график</td>\n",
              "      <td>Частичная занятость</td>\n",
              "      <td>312</td>\n",
              "    </tr>\n",
              "    <tr>\n",
              "      <th>9</th>\n",
              "      <td>8</td>\n",
              "      <td>Полный день</td>\n",
              "      <td>Проектная работа</td>\n",
              "      <td>141</td>\n",
              "    </tr>\n",
              "    <tr>\n",
              "      <th>10</th>\n",
              "      <td>6</td>\n",
              "      <td>Удаленная работа</td>\n",
              "      <td>Проектная работа</td>\n",
              "      <td>133</td>\n",
              "    </tr>\n",
              "    <tr>\n",
              "      <th>11</th>\n",
              "      <td>17</td>\n",
              "      <td>Гибкий график</td>\n",
              "      <td>Стажировка</td>\n",
              "      <td>116</td>\n",
              "    </tr>\n",
              "    <tr>\n",
              "      <th>12</th>\n",
              "      <td>10</td>\n",
              "      <td>Сменный график</td>\n",
              "      <td>Частичная занятость</td>\n",
              "      <td>101</td>\n",
              "    </tr>\n",
              "    <tr>\n",
              "      <th>13</th>\n",
              "      <td>3</td>\n",
              "      <td>Удаленная работа</td>\n",
              "      <td>Стажировка</td>\n",
              "      <td>64</td>\n",
              "    </tr>\n",
              "    <tr>\n",
              "      <th>14</th>\n",
              "      <td>5</td>\n",
              "      <td>Гибкий график</td>\n",
              "      <td>Проектная работа</td>\n",
              "      <td>18</td>\n",
              "    </tr>\n",
              "    <tr>\n",
              "      <th>15</th>\n",
              "      <td>0</td>\n",
              "      <td>Сменный график</td>\n",
              "      <td>Стажировка</td>\n",
              "      <td>12</td>\n",
              "    </tr>\n",
              "    <tr>\n",
              "      <th>16</th>\n",
              "      <td>4</td>\n",
              "      <td>Вахтовый метод</td>\n",
              "      <td>Проектная работа</td>\n",
              "      <td>2</td>\n",
              "    </tr>\n",
              "    <tr>\n",
              "      <th>17</th>\n",
              "      <td>2</td>\n",
              "      <td>Сменный график</td>\n",
              "      <td>Проектная работа</td>\n",
              "      <td>1</td>\n",
              "    </tr>\n",
              "  </tbody>\n",
              "</table>\n",
              "</div>"
            ],
            "text/plain": [
              "    index          schedule           employment  vacancy_qty\n",
              "0      14       Полный день     Полная занятость        35367\n",
              "1      11  Удаленная работа     Полная занятость         7802\n",
              "2       9     Гибкий график     Полная занятость         1593\n",
              "3      15  Удаленная работа  Частичная занятость         1312\n",
              "4      12    Сменный график     Полная занятость          940\n",
              "5       1       Полный день           Стажировка          569\n",
              "6      16    Вахтовый метод     Полная занятость          367\n",
              "7       7       Полный день  Частичная занятость          347\n",
              "8      13     Гибкий график  Частичная занятость          312\n",
              "9       8       Полный день     Проектная работа          141\n",
              "10      6  Удаленная работа     Проектная работа          133\n",
              "11     17     Гибкий график           Стажировка          116\n",
              "12     10    Сменный график  Частичная занятость          101\n",
              "13      3  Удаленная работа           Стажировка           64\n",
              "14      5     Гибкий график     Проектная работа           18\n",
              "15      0    Сменный график           Стажировка           12\n",
              "16      4    Вахтовый метод     Проектная работа            2\n",
              "17      2    Сменный график     Проектная работа            1"
            ]
          },
          "execution_count": 207,
          "metadata": {},
          "output_type": "execute_result"
        }
      ],
      "source": [
        "# выводится датафрейм согласно условиям задания, решил отсортировать уже в питоне для разнообразия \n",
        "# (в тексте задания написано что результат отсортируйте по убыванию количества)\n",
        "schedule_employment = pd.read_sql_query(query_schedule_employment, connection)\n",
        "\n",
        "schedule_employment.sort_values(by='vacancy_qty', ascending=False).reset_index()"
      ]
    },
    {
      "cell_type": "markdown",
      "id": "0136ffee-0ead-4a6b-b608-61d1c753a438",
      "metadata": {
        "id": "0136ffee-0ead-4a6b-b608-61d1c753a438"
      },
      "source": [
        "5. Напишите запрос, выводящий значения поля Требуемый опыт работы (experience) в порядке возрастания количества вакансий, в которых указан данный вариант опыта. "
      ]
    },
    {
      "cell_type": "code",
      "execution_count": 208,
      "id": "5b3a8e79-f7ab-4008-b767-12aea3a205ea",
      "metadata": {
        "id": "5b3a8e79-f7ab-4008-b767-12aea3a205ea"
      },
      "outputs": [],
      "source": [
        "# текст запроса \n",
        "query_vacancy_by_experience = '''select \n",
        "                                    experience\n",
        "                                    ,count(id)\n",
        "                                from vacancies\n",
        "                                group by 1\n",
        "                                order by 2 asc'''"
      ]
    },
    {
      "cell_type": "code",
      "execution_count": 209,
      "id": "3Is64Y-hpDpq",
      "metadata": {
        "id": "3Is64Y-hpDpq"
      },
      "outputs": [
        {
          "data": {
            "text/html": [
              "<div>\n",
              "<style scoped>\n",
              "    .dataframe tbody tr th:only-of-type {\n",
              "        vertical-align: middle;\n",
              "    }\n",
              "\n",
              "    .dataframe tbody tr th {\n",
              "        vertical-align: top;\n",
              "    }\n",
              "\n",
              "    .dataframe thead th {\n",
              "        text-align: right;\n",
              "    }\n",
              "</style>\n",
              "<table border=\"1\" class=\"dataframe\">\n",
              "  <thead>\n",
              "    <tr style=\"text-align: right;\">\n",
              "      <th></th>\n",
              "      <th>experience</th>\n",
              "      <th>count</th>\n",
              "    </tr>\n",
              "  </thead>\n",
              "  <tbody>\n",
              "    <tr>\n",
              "      <th>0</th>\n",
              "      <td>Более 6 лет</td>\n",
              "      <td>1337</td>\n",
              "    </tr>\n",
              "    <tr>\n",
              "      <th>1</th>\n",
              "      <td>Нет опыта</td>\n",
              "      <td>7197</td>\n",
              "    </tr>\n",
              "    <tr>\n",
              "      <th>2</th>\n",
              "      <td>От 3 до 6 лет</td>\n",
              "      <td>14511</td>\n",
              "    </tr>\n",
              "    <tr>\n",
              "      <th>3</th>\n",
              "      <td>От 1 года до 3 лет</td>\n",
              "      <td>26152</td>\n",
              "    </tr>\n",
              "  </tbody>\n",
              "</table>\n",
              "</div>"
            ],
            "text/plain": [
              "           experience  count\n",
              "0         Более 6 лет   1337\n",
              "1           Нет опыта   7197\n",
              "2       От 3 до 6 лет  14511\n",
              "3  От 1 года до 3 лет  26152"
            ]
          },
          "execution_count": 209,
          "metadata": {},
          "output_type": "execute_result"
        }
      ],
      "source": [
        "# результат запроса \n",
        "vacancy_by_experience = pd.read_sql_query(query_vacancy_by_experience, connection)\n",
        "\n",
        "vacancy_by_experience"
      ]
    },
    {
      "cell_type": "markdown",
      "id": "oq2b7n1QpIka",
      "metadata": {
        "id": "oq2b7n1QpIka"
      },
      "source": [
        "***"
      ]
    },
    {
      "cell_type": "markdown",
      "id": "e91f87ed-e25c-4f96-9f92-b642e8c0b4fa",
      "metadata": {
        "id": "e91f87ed-e25c-4f96-9f92-b642e8c0b4fa"
      },
      "source": [
        "Выводы по детальному анализу вакансий следующие:\n",
        "Больше всего вакансий в самых крупных городах в Москве и Питере ( за мкадом жизнь есть! но ее не так много:) )\n",
        "Интересно что на третьем месте идет братский Минск\n",
        "Лишь половина вакансий сопровождается данными по уровню дохода, тут возможны 3 варианта\n",
        "Либо денег хотят предложить в диапазоне от \"кот наплакал\" до \"и это еще до вычета налогов\"\n",
        "Либо бояться своих конкурентов, которые могут мониторить рынок и в частности своих крупных конкурентов,\n",
        "чтобы можно было затянуть или ослабить гайки у себя, либо 3й вариант, для начала хотят прощупать кандидата\n",
        "на синдром самозванца, так сказать поторговаться и нанять с минимальными затратами.\n",
        "По зянятости ничего удивительного концепция \"тело должно быть в офисе\" с нами еще надолго, либо в данных \n",
        "большой процент вакансий по типу сталеваров, которые не могут работать без отрыва от места работы.\n",
        "По опыту работы большая часть вопреки \"вскукарекам\" в ютубе таки берут или хотят людей с небольшим опытом,\n",
        "а вот опытным кандидатам надо платить и тут уже вопрос бюджетов, не у всех они есть"
      ]
    },
    {
      "cell_type": "markdown",
      "id": "7ea20ab6-04a7-40a0-adec-443a0e5a42c3",
      "metadata": {
        "id": "7ea20ab6-04a7-40a0-adec-443a0e5a42c3"
      },
      "source": [
        "# Юнит 5. Анализ работодателей"
      ]
    },
    {
      "cell_type": "markdown",
      "id": "968aed80-74ef-4ffb-b5bf-c65b84e9caea",
      "metadata": {
        "id": "968aed80-74ef-4ffb-b5bf-c65b84e9caea"
      },
      "source": [
        "1. Напишите запрос, который позволит узнать, какие работодатели находятся на первом и пятом месте по количеству вакансий."
      ]
    },
    {
      "cell_type": "code",
      "execution_count": 20,
      "id": "f2d62796-d400-4ec1-a675-88112739a50e",
      "metadata": {
        "id": "f2d62796-d400-4ec1-a675-88112739a50e"
      },
      "outputs": [],
      "source": [
        "# для выполнения задания использовал запрос с вертикальным объединением\n",
        "# сперва до union находим 1е место потом объединяем со вторым запросом где уже меняем на 5 место\n",
        "query_first_fifth_place_employeer = '''(select\n",
        "                                            emp.name\n",
        "                                            ,count(vac.id) vacancy_qty\n",
        "                                        from vacancies vac\n",
        "                                            join employers emp on emp.id = vac.employer_id\n",
        "                                        group by 1\n",
        "                                        order by 2 desc\n",
        "                                        limit 1)\n",
        "                                        union all\n",
        "                                        (select\n",
        "                                            emp.name\n",
        "                                            ,count(vac.id) vacancy_qty\n",
        "                                        from vacancies vac\n",
        "                                            join employers emp on emp.id = vac.employer_id\n",
        "                                        group by 1\n",
        "                                        order by 2 desc\n",
        "                                        limit 1 offset 4)'''"
      ]
    },
    {
      "cell_type": "code",
      "execution_count": 23,
      "id": "64tOMkAxqkQk",
      "metadata": {
        "id": "64tOMkAxqkQk"
      },
      "outputs": [
        {
          "name": "stdout",
          "output_type": "stream",
          "text": [
            "На первом месте находится Яндекс, а на пятом Газпром нефть\n"
          ]
        },
        {
          "data": {
            "text/html": [
              "<div>\n",
              "<style scoped>\n",
              "    .dataframe tbody tr th:only-of-type {\n",
              "        vertical-align: middle;\n",
              "    }\n",
              "\n",
              "    .dataframe tbody tr th {\n",
              "        vertical-align: top;\n",
              "    }\n",
              "\n",
              "    .dataframe thead th {\n",
              "        text-align: right;\n",
              "    }\n",
              "</style>\n",
              "<table border=\"1\" class=\"dataframe\">\n",
              "  <thead>\n",
              "    <tr style=\"text-align: right;\">\n",
              "      <th></th>\n",
              "      <th>name</th>\n",
              "      <th>vacancy_qty</th>\n",
              "    </tr>\n",
              "  </thead>\n",
              "  <tbody>\n",
              "    <tr>\n",
              "      <th>0</th>\n",
              "      <td>Яндекс</td>\n",
              "      <td>1933</td>\n",
              "    </tr>\n",
              "    <tr>\n",
              "      <th>1</th>\n",
              "      <td>Газпром нефть</td>\n",
              "      <td>331</td>\n",
              "    </tr>\n",
              "  </tbody>\n",
              "</table>\n",
              "</div>"
            ],
            "text/plain": [
              "            name  vacancy_qty\n",
              "0         Яндекс         1933\n",
              "1  Газпром нефть          331"
            ]
          },
          "execution_count": 23,
          "metadata": {},
          "output_type": "execute_result"
        }
      ],
      "source": [
        "# дополнитльено создаем 2 переменные первого и пятого места и принтуем результат \n",
        "first_fifth_place_employeer = pd.read_sql_query(query_first_fifth_place_employeer, connection)\n",
        "\n",
        "first_place = first_fifth_place_employeer.loc[0][0]\n",
        "fifth_place = first_fifth_place_employeer.loc[1][0]\n",
        "\n",
        "print(f'На первом месте находится {first_place}, а на пятом {fifth_place}')"
      ]
    },
    {
      "cell_type": "markdown",
      "id": "68377cfc-b378-43dc-ab7d-1195abf2c515",
      "metadata": {
        "id": "68377cfc-b378-43dc-ab7d-1195abf2c515"
      },
      "source": [
        "2. Напишите запрос, который для каждого региона выведет количество работодателей и вакансий в нём.\n",
        "Среди регионов, в которых нет вакансий, найдите тот, в котором наибольшее количество работодателей.\n"
      ]
    },
    {
      "cell_type": "code",
      "execution_count": 24,
      "id": "dd7df27a-e3e8-412e-a21a-5d389b71e891",
      "metadata": {
        "id": "dd7df27a-e3e8-412e-a21a-5d389b71e891"
      },
      "outputs": [],
      "source": [
        "# В условии задаем выборку только строчек где отсутствуют id вакансии, к таблице area справочнику \n",
        "# подтягиваем таблицы справочник по работадателям и таблицу с фактами по вакансиям\n",
        "\n",
        "query_reqion_vacancy_employers = '''select \n",
        "                                        ar.name\n",
        "                                        ,count(emp.id)\n",
        "                                    from areas ar\n",
        "                                        left join vacancies vac on vac.area_id = ar.id\n",
        "                                        left join employers emp on emp.area = ar.id\n",
        "                                    where vac.id is null\n",
        "                                    group by 1\n",
        "                                    order by 2 desc'''\n"
      ]
    },
    {
      "cell_type": "code",
      "execution_count": 26,
      "id": "x1ikWbydrbf6",
      "metadata": {
        "id": "x1ikWbydrbf6"
      },
      "outputs": [
        {
          "name": "stdout",
          "output_type": "stream",
          "text": [
            "Наибольшее количество работадателей в регионе где нет вакансий Россия, а количество работадателей равно 410\n"
          ]
        }
      ],
      "source": [
        "# принтуем результат запроса и печатаем ответ на задание\n",
        "reqion_vacancy_employers = pd.read_sql_query(query_reqion_vacancy_employers, connection)\n",
        "\n",
        "print('Наибольшее количество работадателей в регионе где нет вакансий '\n",
        "    f'{reqion_vacancy_employers.loc[0][0]}, '\n",
        "    f'а количество работадателей равно {reqion_vacancy_employers.loc[0][1]}')"
      ]
    },
    {
      "cell_type": "markdown",
      "id": "f2fe0acb-ab1a-4e15-9326-2560e22d73c1",
      "metadata": {
        "id": "f2fe0acb-ab1a-4e15-9326-2560e22d73c1"
      },
      "source": [
        "3. Для каждого работодателя посчитайте количество регионов, в которых он публикует свои вакансии. Отсортируйте результат по убыванию количества.\n"
      ]
    },
    {
      "cell_type": "code",
      "execution_count": 70,
      "id": "6271f8ad-bd2e-4196-ae4a-5b39c4c1010e",
      "metadata": {
        "id": "6271f8ad-bd2e-4196-ae4a-5b39c4c1010e"
      },
      "outputs": [],
      "source": [
        "# запрос очень простой, джойним с 2 таблицами справочниками employear и areas \n",
        "# затем в селекте выбираем нужные колонки и применяем агрегацию с уникальным данным столбца id таблицы area\n",
        "# группируем и сортируем по условию задачи\n",
        "query_employer_region_qty = '''Select \n",
        "                                emp.name employer_name\n",
        "                                ,count(distinct ar.id) reg_vac_qty\n",
        "                            from vacancies vac\n",
        "                                join employers emp on emp.id = vac.employer_id \n",
        "                                join areas ar on ar.id = vac.area_id\n",
        "                            group by 1\n",
        "                            order by 2 desc'''"
      ]
    },
    {
      "cell_type": "code",
      "execution_count": 75,
      "id": "1EIvX3HasH4F",
      "metadata": {
        "id": "1EIvX3HasH4F"
      },
      "outputs": [
        {
          "data": {
            "text/html": [
              "<div>\n",
              "<style scoped>\n",
              "    .dataframe tbody tr th:only-of-type {\n",
              "        vertical-align: middle;\n",
              "    }\n",
              "\n",
              "    .dataframe tbody tr th {\n",
              "        vertical-align: top;\n",
              "    }\n",
              "\n",
              "    .dataframe thead th {\n",
              "        text-align: right;\n",
              "    }\n",
              "</style>\n",
              "<table border=\"1\" class=\"dataframe\">\n",
              "  <thead>\n",
              "    <tr style=\"text-align: right;\">\n",
              "      <th></th>\n",
              "      <th>employer_name</th>\n",
              "      <th>reg_vac_qty</th>\n",
              "    </tr>\n",
              "  </thead>\n",
              "  <tbody>\n",
              "    <tr>\n",
              "      <th>0</th>\n",
              "      <td>Яндекс</td>\n",
              "      <td>181</td>\n",
              "    </tr>\n",
              "    <tr>\n",
              "      <th>1</th>\n",
              "      <td>Ростелеком</td>\n",
              "      <td>152</td>\n",
              "    </tr>\n",
              "    <tr>\n",
              "      <th>2</th>\n",
              "      <td>Спецремонт</td>\n",
              "      <td>116</td>\n",
              "    </tr>\n",
              "    <tr>\n",
              "      <th>3</th>\n",
              "      <td>Поляков Денис Иванович</td>\n",
              "      <td>88</td>\n",
              "    </tr>\n",
              "    <tr>\n",
              "      <th>4</th>\n",
              "      <td>ООО ЕФИН</td>\n",
              "      <td>71</td>\n",
              "    </tr>\n",
              "    <tr>\n",
              "      <th>5</th>\n",
              "      <td>Совкомбанк</td>\n",
              "      <td>63</td>\n",
              "    </tr>\n",
              "    <tr>\n",
              "      <th>6</th>\n",
              "      <td>МТС</td>\n",
              "      <td>55</td>\n",
              "    </tr>\n",
              "    <tr>\n",
              "      <th>7</th>\n",
              "      <td>ЭФКО, Управляющая компания</td>\n",
              "      <td>49</td>\n",
              "    </tr>\n",
              "    <tr>\n",
              "      <th>8</th>\n",
              "      <td>Почта России</td>\n",
              "      <td>48</td>\n",
              "    </tr>\n",
              "    <tr>\n",
              "      <th>9</th>\n",
              "      <td>КРОН</td>\n",
              "      <td>48</td>\n",
              "    </tr>\n",
              "  </tbody>\n",
              "</table>\n",
              "</div>"
            ],
            "text/plain": [
              "                employer_name  reg_vac_qty\n",
              "0                      Яндекс          181\n",
              "1                  Ростелеком          152\n",
              "2                  Спецремонт          116\n",
              "3      Поляков Денис Иванович           88\n",
              "4                   ООО ЕФИН            71\n",
              "5                  Совкомбанк           63\n",
              "6                         МТС           55\n",
              "7  ЭФКО, Управляющая компания           49\n",
              "8                Почта России           48\n",
              "9                        КРОН           48"
            ]
          },
          "execution_count": 75,
          "metadata": {},
          "output_type": "execute_result"
        }
      ],
      "source": [
        "# результат запроса вывожу первые 10 строк, чтобы не захламлять ноутбук\n",
        "employer_region_qty = pd.read_sql_query(query_employer_region_qty, connection)\n",
        "\n",
        "employer_region_qty.head(10)"
      ]
    },
    {
      "cell_type": "markdown",
      "id": "eab2206d-d95b-468b-8e5f-34381abf0ce7",
      "metadata": {
        "id": "eab2206d-d95b-468b-8e5f-34381abf0ce7"
      },
      "source": [
        "4. Напишите запрос для подсчёта количества работодателей, у которых не указана сфера деятельности. "
      ]
    },
    {
      "cell_type": "code",
      "execution_count": 81,
      "id": "80defb23-bfb1-4a18-8be6-bf36aa7165d5",
      "metadata": {
        "id": "80defb23-bfb1-4a18-8be6-bf36aa7165d5"
      },
      "outputs": [],
      "source": [
        "# запрос примитивный, к таблице справочнику лефт-джойним таблицу сфер-работадателей, где пусто там и есть наша нужная выборка\n",
        "query_empl_wo_industry = '''select \n",
        "                                    count(id)\n",
        "                                from employers emp\n",
        "                                    left join employers_industries ind on emp.id = ind.employer_id\n",
        "                                where industry_id is null'''"
      ]
    },
    {
      "cell_type": "code",
      "execution_count": 92,
      "id": "Dp_yCx6ysQSu",
      "metadata": {
        "id": "Dp_yCx6ysQSu"
      },
      "outputs": [
        {
          "name": "stdout",
          "output_type": "stream",
          "text": [
            "Количество работадателей которые не указали сферу деятельности 8419\n"
          ]
        }
      ],
      "source": [
        "# выводим результат, тут я использовал патерн запроса сразу в переменную конечного ответа, чтобы не плодить строки\n",
        "# метод read_sql_query возвращает датафрей, через ['count'] выводим серию и у серии выбираем самый первый вариант\n",
        "# в нашем запросе он и единственный :) \n",
        "empl_wo_industry = pd.read_sql_query(query_empl_wo_industry, connection)['count'][0]\n",
        "\n",
        "print(f'Количество работадателей которые не указали сферу деятельности {empl_wo_industry}')\n"
      ]
    },
    {
      "cell_type": "markdown",
      "id": "0112af31-f6b0-4e3b-82ab-71296e752e5e",
      "metadata": {
        "id": "0112af31-f6b0-4e3b-82ab-71296e752e5e"
      },
      "source": [
        "5. Напишите запрос, чтобы узнать название компании, находящейся на третьем месте в алфавитном списке (по названию) компаний, у которых указано четыре сферы деятельности. "
      ]
    },
    {
      "cell_type": "code",
      "execution_count": 6,
      "id": "973b0cfc-a972-470a-8b4a-68744ef220c4",
      "metadata": {
        "id": "973b0cfc-a972-470a-8b4a-68744ef220c4"
      },
      "outputs": [],
      "source": [
        "# запрос также весьма простой, решил вытащить все данные, а уже питоном потом достать нужный ответ\n",
        "query_forth_industries_companies = '''select \n",
        "                                        name\n",
        "                                        ,count(industry_id)\n",
        "                                    from employers emp\n",
        "                                        left join employers_industries ind on emp.id = ind.employer_id\n",
        "                                    group by 1\n",
        "                                    having count(industry_id) = 4\n",
        "                                    order by 1'''"
      ]
    },
    {
      "cell_type": "code",
      "execution_count": 13,
      "id": "xsPtpp8EsaED",
      "metadata": {
        "id": "xsPtpp8EsaED"
      },
      "outputs": [
        {
          "name": "stdout",
          "output_type": "stream",
          "text": [
            "На третьем месте в алфавитном списке компаний у которых 4 сферы деятельности находится компания 2ГИС\n"
          ]
        }
      ],
      "source": [
        "# результат запроса\n",
        "forth_industries_companies = pd.read_sql_query(query_forth_industries_companies, connection)\n",
        "\n",
        "# получаем в переменную 3е место из датафрейма\n",
        "third_company_in = forth_industries_companies.loc[2][0]\n",
        "\n",
        "print('На третьем месте в алфавитном списке компаний у которых 4 сферы деятельности'\n",
        "      f' находится компания {third_company_in}')"
      ]
    },
    {
      "cell_type": "markdown",
      "id": "3bfcfdaf-755d-4d2b-8ed8-326201dc07ab",
      "metadata": {
        "id": "3bfcfdaf-755d-4d2b-8ed8-326201dc07ab"
      },
      "source": [
        "6. С помощью запроса выясните, у какого количества работодателей в качестве сферы деятельности указана Разработка программного обеспечения.\n"
      ]
    },
    {
      "cell_type": "code",
      "execution_count": 15,
      "id": "ad3f270f-2991-47eb-929b-e8f88a55b0d1",
      "metadata": {
        "id": "ad3f270f-2991-47eb-929b-e8f88a55b0d1"
      },
      "outputs": [],
      "source": [
        "# запрос простой джойним таблицу employear с таблицей пересечений работадателей и сфер,\n",
        "# а также таблицей сфер и таблицей работадателей-сфер\n",
        "query_employer_soft_developer = '''select \n",
        "                                        count(emp.id)\n",
        "                                    from employers emp\n",
        "                                        join employers_industries eind on emp.id = eind.employer_id\n",
        "                                        join industries ind on ind.id = eind.industry_id\n",
        "                                    where ind.name = 'Разработка программного обеспечения' '''"
      ]
    },
    {
      "cell_type": "code",
      "execution_count": 18,
      "id": "H72qxWM0shPR",
      "metadata": {
        "id": "H72qxWM0shPR"
      },
      "outputs": [
        {
          "name": "stdout",
          "output_type": "stream",
          "text": [
            "В базе 3553 работадателя у которах указана сфера деятельности разработка ПО\n"
          ]
        }
      ],
      "source": [
        "# просто выводим результат запроса\n",
        "employer_soft_developer = pd.read_sql_query(query_employer_soft_developer, connection)\n",
        "\n",
        "empl_softdev_qty = employer_soft_developer['count'][0]\n",
        "\n",
        "print(f'В базе {empl_softdev_qty} работадателя у которах указана сфера деятельности разработка ПО')\n"
      ]
    },
    {
      "cell_type": "markdown",
      "id": "7b02bb86-0546-40fb-94a4-242f050a5c57",
      "metadata": {
        "id": "7b02bb86-0546-40fb-94a4-242f050a5c57"
      },
      "source": [
        "7. Для компании «Яндекс» выведите список регионов-миллионников, в которых представлены вакансии компании, вместе с количеством вакансий в этих регионах. Также добавьте строку Total с общим количеством вакансий компании. Результат отсортируйте по возрастанию количества.\n",
        "\n",
        "Список городов-милионников надо взять [отсюда](https://ru.wikipedia.org/wiki/%D0%93%D0%BE%D1%80%D0%BE%D0%B4%D0%B0-%D0%BC%D0%B8%D0%BB%D0%BB%D0%B8%D0%BE%D0%BD%D0%B5%D1%80%D1%8B_%D0%A0%D0%BE%D1%81%D1%81%D0%B8%D0%B8). \n",
        "\n",
        "Если возникнут трудности с этим задание посмотрите материалы модуля  PYTHON-17. Как получать данные из веб-источников и API. "
      ]
    },
    {
      "cell_type": "code",
      "execution_count": 143,
      "id": "ZdfrL6gIs1Pn",
      "metadata": {
        "id": "ZdfrL6gIs1Pn"
      },
      "outputs": [],
      "source": [
        "# код для получения списка городов-милионников, \n",
        "# получаем готовый датафрейм по запросу из интернета, выбираем колонку с городом, переводим все в лист и помещаем\n",
        "# в переменную mln_cities\n",
        "# затем переводим все в str, чтобы подставить в наш запрос к нашей базе данных и помещаем в переменную mln_cities_str\n",
        "url = 'https://ru.wikipedia.org/wiki/%D0%93%D0%BE%D1%80%D0%BE%D0%B4%D0%B0-' \\\n",
        "    '%D0%BC%D0%B8%D0%BB%D0%BB%D0%B8%D0%BE%D0%BD%D0%B5%D1%80%D1%8B_%D0%A0%D0%BE%D1%81%D1%81%D0%B8%D0%B8'\n",
        "\n",
        "mln_cities = list(pd.read_html(url)[1]['Город'])\n",
        "\n",
        "mln_cities_str = ','.join(map(lambda x: \"'\" + x + \"'\", mln_cities))"
      ]
    },
    {
      "cell_type": "code",
      "execution_count": 147,
      "id": "5a0e32a4-e68a-4365-8a39-2fe24c542c36",
      "metadata": {
        "id": "5a0e32a4-e68a-4365-8a39-2fe24c542c36"
      },
      "outputs": [],
      "source": [
        "# запрос предтавляет собой объединение 2х выборок, основной и добавляем через union тотальную цифру\n",
        "# в запрос с помощью f-строк добавляем нашу переменную mln_cities_str\n",
        "query_yandex_mln_cities = f'''   \n",
        "                    (select \n",
        "                        ar.name\n",
        "                        ,count(vac.id) cnt\n",
        "                    from vacancies vac \n",
        "                        join areas ar on ar.id = vac.area_id\n",
        "                        join employers emp on emp.id = vac.employer_id\n",
        "                    where \n",
        "                        emp.name = 'Яндекс' and\n",
        "                        ar.name in ({mln_cities_str})\n",
        "                    group by 1\n",
        "                    order by 2)\n",
        "\n",
        "                    union \n",
        "\n",
        "                    (select \n",
        "                        'Total'\n",
        "                        ,count(vac.id) cnt\n",
        "                    from vacancies vac \n",
        "                        join areas ar on ar.id = vac.area_id\n",
        "                        join employers emp on emp.id = vac.employer_id\n",
        "                    where \n",
        "                        emp.name = 'Яндекс' and\n",
        "                        ar.name in ({mln_cities_str})\n",
        "                    )\n",
        "                    order by 2\n",
        "'''"
      ]
    },
    {
      "cell_type": "code",
      "execution_count": 149,
      "id": "ttPhiO1rsvPq",
      "metadata": {
        "id": "ttPhiO1rsvPq"
      },
      "outputs": [
        {
          "data": {
            "text/html": [
              "<div>\n",
              "<style scoped>\n",
              "    .dataframe tbody tr th:only-of-type {\n",
              "        vertical-align: middle;\n",
              "    }\n",
              "\n",
              "    .dataframe tbody tr th {\n",
              "        vertical-align: top;\n",
              "    }\n",
              "\n",
              "    .dataframe thead th {\n",
              "        text-align: right;\n",
              "    }\n",
              "</style>\n",
              "<table border=\"1\" class=\"dataframe\">\n",
              "  <thead>\n",
              "    <tr style=\"text-align: right;\">\n",
              "      <th></th>\n",
              "      <th>name</th>\n",
              "      <th>cnt</th>\n",
              "    </tr>\n",
              "  </thead>\n",
              "  <tbody>\n",
              "    <tr>\n",
              "      <th>0</th>\n",
              "      <td>Омск</td>\n",
              "      <td>21</td>\n",
              "    </tr>\n",
              "    <tr>\n",
              "      <th>1</th>\n",
              "      <td>Челябинск</td>\n",
              "      <td>22</td>\n",
              "    </tr>\n",
              "    <tr>\n",
              "      <th>2</th>\n",
              "      <td>Красноярск</td>\n",
              "      <td>23</td>\n",
              "    </tr>\n",
              "    <tr>\n",
              "      <th>3</th>\n",
              "      <td>Волгоград</td>\n",
              "      <td>24</td>\n",
              "    </tr>\n",
              "    <tr>\n",
              "      <th>4</th>\n",
              "      <td>Пермь</td>\n",
              "      <td>25</td>\n",
              "    </tr>\n",
              "    <tr>\n",
              "      <th>5</th>\n",
              "      <td>Казань</td>\n",
              "      <td>25</td>\n",
              "    </tr>\n",
              "    <tr>\n",
              "      <th>6</th>\n",
              "      <td>Ростов-на-Дону</td>\n",
              "      <td>25</td>\n",
              "    </tr>\n",
              "    <tr>\n",
              "      <th>7</th>\n",
              "      <td>Уфа</td>\n",
              "      <td>26</td>\n",
              "    </tr>\n",
              "    <tr>\n",
              "      <th>8</th>\n",
              "      <td>Самара</td>\n",
              "      <td>26</td>\n",
              "    </tr>\n",
              "    <tr>\n",
              "      <th>9</th>\n",
              "      <td>Краснодар</td>\n",
              "      <td>30</td>\n",
              "    </tr>\n",
              "    <tr>\n",
              "      <th>10</th>\n",
              "      <td>Воронеж</td>\n",
              "      <td>32</td>\n",
              "    </tr>\n",
              "    <tr>\n",
              "      <th>11</th>\n",
              "      <td>Новосибирск</td>\n",
              "      <td>35</td>\n",
              "    </tr>\n",
              "    <tr>\n",
              "      <th>12</th>\n",
              "      <td>Нижний Новгород</td>\n",
              "      <td>36</td>\n",
              "    </tr>\n",
              "    <tr>\n",
              "      <th>13</th>\n",
              "      <td>Екатеринбург</td>\n",
              "      <td>39</td>\n",
              "    </tr>\n",
              "    <tr>\n",
              "      <th>14</th>\n",
              "      <td>Санкт-Петербург</td>\n",
              "      <td>42</td>\n",
              "    </tr>\n",
              "    <tr>\n",
              "      <th>15</th>\n",
              "      <td>Москва</td>\n",
              "      <td>54</td>\n",
              "    </tr>\n",
              "    <tr>\n",
              "      <th>16</th>\n",
              "      <td>Total</td>\n",
              "      <td>485</td>\n",
              "    </tr>\n",
              "  </tbody>\n",
              "</table>\n",
              "</div>"
            ],
            "text/plain": [
              "               name  cnt\n",
              "0              Омск   21\n",
              "1         Челябинск   22\n",
              "2        Красноярск   23\n",
              "3         Волгоград   24\n",
              "4             Пермь   25\n",
              "5            Казань   25\n",
              "6    Ростов-на-Дону   25\n",
              "7               Уфа   26\n",
              "8            Самара   26\n",
              "9         Краснодар   30\n",
              "10          Воронеж   32\n",
              "11      Новосибирск   35\n",
              "12  Нижний Новгород   36\n",
              "13     Екатеринбург   39\n",
              "14  Санкт-Петербург   42\n",
              "15           Москва   54\n",
              "16            Total  485"
            ]
          },
          "execution_count": 149,
          "metadata": {},
          "output_type": "execute_result"
        }
      ],
      "source": [
        "# результат запроса\n",
        "yandex_vacancy_by_mln_city = pd.read_sql_query(query_yandex_mln_cities, connection)\n",
        "yandex_vacancy_by_mln_city"
      ]
    },
    {
      "cell_type": "markdown",
      "id": "04966e40-3bc3-4dc8-9ba2-e80580ce3abc",
      "metadata": {
        "id": "04966e40-3bc3-4dc8-9ba2-e80580ce3abc"
      },
      "source": [
        "***"
      ]
    },
    {
      "cell_type": "markdown",
      "id": "aGGyER-yt4SR",
      "metadata": {
        "id": "aGGyER-yt4SR"
      },
      "source": [
        "#### Выводы по анализу работодателей следущие:\n",
        "Интересным представляется факт, что регионом с самым большим количеством работадателей у которых нет вакансий, \n",
        "является Россия, а это значит что большинство работадателей не указывают свой регион и просто ставят его как название страны.\n",
        "что в целом наверное логично, т.к. уже непосредственно в описании вакансии указывается специфика региона, \n",
        "а тут мы как раз смотрим в их отсутствие.\n",
        "В данных по некоторым работадателям присутствует детальное дробление по регионам вплоть до города.\n",
        "так например Яндекс ищет работников в 181 регион\n",
        "В базе присутствует достаточно большое количество работадателей которые не указали сферу своей деятельности.\n",
        "выглядит это довольно странным, либо местному HR лень, либо HH денег за это просит, либо глобальный заговор\n",
        "нет однозначности в понимании почему так происходит, гугл мне не помог в разрешении этого вопроса.\n",
        "В данных присустствует около 10% работадателей занимающихся разработкой ПО\n",
        "Выяснили, что компания яндекс (о неожиданность :) ) больше всего вакансий имеет в Москве, около 10% от общего\n",
        "Что в целом не так уж и много учитывая размер населения города и статуса столицы, вероятно это связано\n",
        "с тем что специалиста в Москву найти проще, поэтому вакансии закрываются активно, скажем девелопера найти\n",
        "в Самару будет сложнее, так как страна у нас центрична, несмотря на все заявления о федерализме."
      ]
    },
    {
      "cell_type": "markdown",
      "id": "b1ef156a-efcb-49ce-bb23-90763e7f35b2",
      "metadata": {
        "id": "b1ef156a-efcb-49ce-bb23-90763e7f35b2",
        "tags": []
      },
      "source": [
        "# Юнит 6. Предметный анализ"
      ]
    },
    {
      "cell_type": "markdown",
      "id": "b9cd50a0-992d-4988-8463-2b2b1c4629b4",
      "metadata": {
        "id": "b9cd50a0-992d-4988-8463-2b2b1c4629b4"
      },
      "source": [
        "1. Сколько вакансий имеет отношение к данным?\n",
        "\n",
        "Считаем, что вакансия имеет отношение к данным, если в её названии содержатся слова 'data' или 'данн'.\n",
        "\n",
        "*Подсказка: Обратите внимание, что названия вакансий могут быть написаны в любом регистре.* \n"
      ]
    },
    {
      "cell_type": "code",
      "execution_count": 150,
      "id": "54ab0e50-c0f1-47cc-a54b-bc5c8bc363f9",
      "metadata": {
        "id": "54ab0e50-c0f1-47cc-a54b-bc5c8bc363f9"
      },
      "outputs": [],
      "source": [
        "# запрос весьма простой просто фильтруем таблицу с вакансиями по заданным условиям\n",
        "query_data_specialists_qty = '''select count(id)\n",
        "                                    from vacancies\n",
        "                                where lower(name) like '%данн%' \n",
        "                                    or lower(name) like  '%data%' '''"
      ]
    },
    {
      "cell_type": "code",
      "execution_count": 156,
      "id": "9F1meAqsuUjd",
      "metadata": {
        "id": "9F1meAqsuUjd"
      },
      "outputs": [
        {
          "name": "stdout",
          "output_type": "stream",
          "text": [
            "В базе содержится 1771 вакансий имеющих отношение к данным\n"
          ]
        }
      ],
      "source": [
        "# в результате 1771 вакансия это чуть больше 3% от общего количества \n",
        "data_specialists_qty = pd.read_sql_query(query_data_specialists_qty, connection)['count'][0]\n",
        "\n",
        "print(f'В базе содержится {data_specialists_qty} вакансий имеющих отношение к данным')"
      ]
    },
    {
      "cell_type": "markdown",
      "id": "4dea20cb-a36b-474a-a0b9-e08e8e3857a5",
      "metadata": {
        "id": "4dea20cb-a36b-474a-a0b9-e08e8e3857a5"
      },
      "source": [
        "2. Сколько есть подходящих вакансий для начинающего дата-сайентиста? \n",
        "Будем считать вакансиями для дата-сайентистов такие, в названии которых есть хотя бы одно из следующих сочетаний:\n",
        "* 'data scientist'\n",
        "* 'data science'\n",
        "* 'исследователь данных'\n",
        "* 'ML' (здесь не нужно брать вакансии по HTML)\n",
        "* 'machine learning'\n",
        "* 'машинн%обучен%'\n",
        "\n",
        "** В следующих заданиях мы продолжим работать с вакансиями по этому условию.*\n",
        "\n",
        "Считаем вакансиями для специалистов уровня Junior следующие:\n",
        "* в названии есть слово 'junior' *или*\n",
        "* требуемый опыт — Нет опыта *или*\n",
        "* тип трудоустройства — Стажировка.\n",
        " "
      ]
    },
    {
      "cell_type": "code",
      "execution_count": 157,
      "id": "9c61b3c0-bb66-46c9-ae1e-81d3f5752b4a",
      "metadata": {
        "id": "9c61b3c0-bb66-46c9-ae1e-81d3f5752b4a"
      },
      "outputs": [],
      "source": [
        "# фильтруем таблицу с вакансиями по заданному условию\n",
        "query_junior_vacancies = '''select \n",
        "                                count(*)\n",
        "                            from vacancies\n",
        "                            where \n",
        "                                (lower(name) like '%data scientist%'\n",
        "                                or lower(name) like '%data science%'\n",
        "                                or lower(name) like '%исследователь данных%'\n",
        "                                or upper(name) like '%ML%'\n",
        "                                or lower(name) like '%machine learning%'\n",
        "                                or lower(name) like '%машинн%обучен%')\n",
        "                                and upper(name) not like '%HTML%'\n",
        "                                and (lower(name) like '%junior%' or  \n",
        "                                experience = 'Нет опыта' or employment = 'Стажировка')'''"
      ]
    },
    {
      "cell_type": "code",
      "execution_count": 163,
      "id": "ZNM-LLYuu1dj",
      "metadata": {
        "id": "ZNM-LLYuu1dj"
      },
      "outputs": [
        {
          "name": "stdout",
          "output_type": "stream",
          "text": [
            "В базе 51 вакансия удовлетворяющая условиям задачи\n"
          ]
        }
      ],
      "source": [
        "# выводим результаты\n",
        "junior_vacancies = pd.read_sql_query(query_junior_vacancies, connection)['count'][0]\n",
        "\n",
        "print(f'В базе {junior_vacancies} вакансия удовлетворяющая условиям задачи')"
      ]
    },
    {
      "cell_type": "markdown",
      "id": "eedceb80-c5ca-480e-b27a-278dfb8b4438",
      "metadata": {
        "id": "eedceb80-c5ca-480e-b27a-278dfb8b4438"
      },
      "source": [
        "3. Сколько есть вакансий для DS, в которых в качестве ключевого навыка указан SQL или postgres?\n",
        "\n",
        "** Критерии для отнесения вакансии к DS указаны в предыдущем задании.*"
      ]
    },
    {
      "cell_type": "code",
      "execution_count": 166,
      "id": "69621713-0cc5-4f1b-a1d7-bb144fa6148c",
      "metadata": {
        "id": "69621713-0cc5-4f1b-a1d7-bb144fa6148c"
      },
      "outputs": [],
      "source": [
        "# фильтруем таблицу с вакансиями по заданному условию задачи\n",
        "query_ds_vacancies_with_sql = '''select count(*)\n",
        "                                        from vacancies\n",
        "                                    where \n",
        "                                        (lower(name) like '%data scientist%'\n",
        "                                        or lower(name) like '%data science%'\n",
        "                                        or lower(name) like '%исследователь данных%'\n",
        "                                        or upper(name) like '%ML%'\n",
        "                                        or lower(name) like '%machine learning%'\n",
        "                                        or lower(name) like '%машинн%обучен%')\n",
        "                                        and upper(name) not like '%HTML%'\n",
        "                                        and (lower(key_skills) like \n",
        "                                            '%sql%' or lower(key_skills) like '%postgres%')'''"
      ]
    },
    {
      "cell_type": "code",
      "execution_count": 169,
      "id": "alA8WEAAvGdf",
      "metadata": {
        "id": "alA8WEAAvGdf"
      },
      "outputs": [
        {
          "name": "stdout",
          "output_type": "stream",
          "text": [
            "В базе содержится 229 вакансий Data Scientist, где требуется навык SQL или Postgres\n"
          ]
        }
      ],
      "source": [
        "# результат запроса\n",
        "ds_vacancies_with_sql = pd.read_sql_query(query_ds_vacancies_with_sql, connection)['count'][0]\n",
        "print(f'В базе содержится {ds_vacancies_with_sql} вакансий Data Scientist, где требуется навык SQL или Postgres')"
      ]
    },
    {
      "cell_type": "markdown",
      "id": "1be1e9c6-37cf-4a5f-bfeb-04cab799dc80",
      "metadata": {
        "id": "1be1e9c6-37cf-4a5f-bfeb-04cab799dc80"
      },
      "source": [
        "4. Проверьте, насколько популярен Python в требованиях работодателей к DS.Для этого вычислите количество вакансий, в которых в качестве ключевого навыка указан Python.\n",
        "\n",
        "** Это можно сделать помощью запроса, аналогичного предыдущему.*"
      ]
    },
    {
      "cell_type": "code",
      "execution_count": 170,
      "id": "0036a355-9ccf-4564-8b01-73d8194297e7",
      "metadata": {
        "id": "0036a355-9ccf-4564-8b01-73d8194297e7"
      },
      "outputs": [],
      "source": [
        "# фильтруем таблицу с вакансиями по заданному условию задачи\n",
        "query_ds_python_skill_require = '''select count(*)\n",
        "                                        from vacancies\n",
        "                                    where \n",
        "                                        (lower(name) like '%data scientist%'\n",
        "                                        or lower(name) like '%data science%'\n",
        "                                        or lower(name) like '%исследователь данных%'\n",
        "                                        or upper(name) like '%ML%'\n",
        "                                        or lower(name) like '%machine learning%'\n",
        "                                        or lower(name) like '%машинн%обучен%')\n",
        "                                        and upper(name) not like '%HTML%'\n",
        "                                        and (lower(key_skills) like '%python%')'''"
      ]
    },
    {
      "cell_type": "code",
      "execution_count": 173,
      "id": "1i-5WyucvQ6v",
      "metadata": {
        "id": "1i-5WyucvQ6v"
      },
      "outputs": [
        {
          "name": "stdout",
          "output_type": "stream",
          "text": [
            "Требование по навыкам python имеется в 357 вакансиях на позицию DS\n"
          ]
        }
      ],
      "source": [
        "# результат запроса\n",
        "ds_python_skill_require = pd.read_sql_query(query_ds_python_skill_require, connection)['count'][0]\n",
        "print(f'Требование по навыкам python имеется в {ds_python_skill_require} вакансиях на позицию DS')"
      ]
    },
    {
      "cell_type": "markdown",
      "id": "ec3c8db7-fa21-4a41-a994-1af63742a642",
      "metadata": {
        "id": "ec3c8db7-fa21-4a41-a994-1af63742a642"
      },
      "source": [
        "5. Сколько ключевых навыков в среднем указывают в вакансиях для DS?\n",
        "Ответ округлите до двух знаков после точки-разделителя."
      ]
    },
    {
      "cell_type": "code",
      "execution_count": 176,
      "id": "949132bc-d5b6-4611-8218-0b9a504d74f4",
      "metadata": {
        "id": "949132bc-d5b6-4611-8218-0b9a504d74f4"
      },
      "outputs": [],
      "source": [
        "# фильтруем таблицу с вакансиями по заданному условию задачи\n",
        "# Интересным фактом, является \"смердженные\" данные в колонке клюбчевых навыков,\n",
        "# а в качестве разделителя табуляция, никогда в своей практике работы с базами данных подобного не встречал\n",
        "# интересно что по сути мы считает количество делиметров а не самих навыков, что в конечном результате, \n",
        "# безусловно дает такой же результат, т.к. мы сравниваем длинную 2х строк\n",
        "query_ds_skills_qty = '''select \n",
        "                            round(avg(length(key_skills) - length(replace(key_skills, CHR(9), '')) + 1), 2)\n",
        "                        from vacancies\n",
        "                        where\n",
        "                            (name ilike '%data scientist%'\n",
        "                            or name ilike '%data science%'\n",
        "                            or name ilike '%исследователь данных%'\n",
        "                            or name ilike '%machine learning%'\n",
        "                            or name ilike '%машинн%обучен%')\n",
        "                            or name like '%ML%' and name not ilike '%HTML%'\n",
        "                            and key_skills is not null\n",
        "                        '''"
      ]
    },
    {
      "cell_type": "code",
      "execution_count": 180,
      "id": "a3V24Tvmviqk",
      "metadata": {
        "id": "a3V24Tvmviqk"
      },
      "outputs": [
        {
          "name": "stdout",
          "output_type": "stream",
          "text": [
            "Среднее количество навыков в вакансиях для DS -> 6.41\n"
          ]
        }
      ],
      "source": [
        "# результат запроса\n",
        "ds_skills_qty = pd.read_sql_query(query_ds_skills_qty, connection)['round'][0]\n",
        "\n",
        "print(f'Среднее количество навыков в вакансиях для DS -> {ds_skills_qty}')"
      ]
    },
    {
      "cell_type": "markdown",
      "id": "1041c17a-ca8f-4543-a0ca-32778914fb00",
      "metadata": {
        "id": "1041c17a-ca8f-4543-a0ca-32778914fb00"
      },
      "source": [
        "6. Напишите запрос, позволяющий вычислить, какую зарплату для DS в **среднем** указывают для каждого типа требуемого опыта (уникальное значение из поля *experience*). \n",
        "\n",
        "При решении задачи примите во внимание следующее:\n",
        "1. Рассматриваем только вакансии, у которых заполнено хотя бы одно из двух полей с зарплатой.\n",
        "2. Если заполнены оба поля с зарплатой, то считаем зарплату по каждой вакансии как сумму двух полей, делённую на 2. Если заполнено только одно из полей, то его и считаем зарплатой по вакансии.\n",
        "3. Если в расчётах участвует null, в результате он тоже даст null (посмотрите, что возвращает запрос select 1 + null). Чтобы избежать этой ситуацию, мы воспользуемся функцией [coalesce](https://postgrespro.ru/docs/postgresql/9.5/functions-conditional#functions-coalesce-nvl-ifnull), которая заменит null на значение, которое мы передадим. Например, посмотрите, что возвращает запрос `select 1 + coalesce(null, 0)`\n",
        "\n",
        "Выясните, на какую зарплату в среднем может рассчитывать дата-сайентист с опытом работы от 3 до 6 лет. Результат округлите до целого числа. "
      ]
    },
    {
      "cell_type": "code",
      "execution_count": 182,
      "id": "6a743d39-5204-48d3-8271-b9f88e68d40e",
      "metadata": {
        "id": "6a743d39-5204-48d3-8271-b9f88e68d40e"
      },
      "outputs": [],
      "source": [
        "# Решил задачу с помощью конструкции case end, так привычнее решать подобные задачи\n",
        "# в where предварительно убираем строчки где вообще не указана зарплата\n",
        "query_ds_salary_by_experience = '''select \n",
        "                                    experience\n",
        "                                    ,AVG(case \n",
        "                                        when salary_from is not null and salary_to is not null\n",
        "                                            then (salary_from + salary_to) / 2\n",
        "                                        when salary_from is not null \n",
        "                                            then salary_from\n",
        "                                        when salary_to is not null \n",
        "                                            then salary_to end) avg_salary\n",
        "                                from vacancies\n",
        "                                where\n",
        "                                    (name ilike '%data scientist%'\n",
        "                                    or name ilike '%data science%'\n",
        "                                    or name ilike '%исследователь данных%'\n",
        "                                    or name ilike '%machine learning%'\n",
        "                                    or name ilike '%машинн%обучен%'\n",
        "                                    or (name like '%ML%' and name not ilike '%HTML%'))\n",
        "                                    and (salary_from is not null or salary_to is not null)\n",
        "                                group by 1'''"
      ]
    },
    {
      "cell_type": "code",
      "execution_count": 197,
      "id": "aRIJ0mZEwU1_",
      "metadata": {
        "id": "aRIJ0mZEwU1_"
      },
      "outputs": [
        {
          "name": "stdout",
          "output_type": "stream",
          "text": [
            "Дата саентист с опытом 3-6 лет может рассчитывать за уровень дохода в среднем 243115 тыс.руб\n"
          ]
        }
      ],
      "source": [
        "# Делаем коннект, достаем условие задачи\n",
        "ds_salary_by_experience = pd.read_sql_query(query_ds_salary_by_experience, connection)\n",
        "three_to_six_exp = ds_salary_by_experience[ds_salary_by_experience['experience'] == 'От 3 до 6 лет'].avg_salary.values[0]\n",
        "\n",
        "print(f'Дата саентист с опытом 3-6 лет может рассчитывать за уровень дохода в среднем {round(three_to_six_exp, 0):.0f} тыс.руб')"
      ]
    },
    {
      "cell_type": "markdown",
      "id": "6a7892b4-4113-4746-adce-18aa2844f18e",
      "metadata": {
        "id": "6a7892b4-4113-4746-adce-18aa2844f18e"
      },
      "source": [
        "***"
      ]
    },
    {
      "cell_type": "markdown",
      "id": "UjLWUptVwY1o",
      "metadata": {
        "id": "UjLWUptVwY1o"
      },
      "source": [
        "#### Выводы по предметному анализу\n",
        "В базе присутствует около 3х процентов вакансий, относящихся к анализу данных,\n",
        "Из них джунов дата-саентистов \"гулькин нос\" 51 позиция (около 3х процентов от всех тех кто имеет отношения к данным)\n",
        "и около 0,001% от всех вакансий, значит вкатится в айтишечку будут як как не просто :)\n",
        "хорошая новость заключается в том, что все же можно устроится на работу с данными в том или ином виде.\n",
        "Также кратно повышают шансы владения инструментами python и sql и др. \n",
        "Потенциальному кандидату нужно работать на увеличением своего скилового стэка, т.к. средний стэк в \n",
        "предпочтении работадателей это чуть более 6ти технологий.\n",
        "Ну и на десерт, те кто таки вкатится в дата саенс уже через 3 года будут щедро вознаграждены сундуком с пиастрами,\n",
        "тк. средняя зп таких специалистов около 250к в месяц, что в сравнении со средней по стране, неприлично много."
      ]
    },
    {
      "cell_type": "markdown",
      "id": "c0ED6fh7wiBT",
      "metadata": {
        "id": "c0ED6fh7wiBT"
      },
      "source": [
        "# Общий вывод по проекту"
      ]
    },
    {
      "cell_type": "markdown",
      "id": "h9B3BL-wwj18",
      "metadata": {
        "id": "h9B3BL-wwj18"
      },
      "source": [
        "1. Перед нами полноценная база данных вакансий, которая содержит около 50_000 вакансий, \n",
        "2. Представлено около 23_500 работадалей, по более чем 300 сферам деятельности\n",
        "3. Самое большое количество вакансий представлено в самых крупных городах миллионниках, география решает.\n",
        "4. Не у всех работадателей есть открытые вакансии\n",
        "5. Для потенциального кандидата, будет интересным факт, что новички на рынке требуются, но для этого нужно иметь стек знаний, который можно развивать, в анализе данных это sql и python, приветствуется чтобы кандидат имел более 6 навыков.\n",
        "6. Хотя и имея стек очень хорошо, но позиции именно специализированные data science все же в массе свой треюуется опыт работы, вероятно стоит начать с более простых вакансий например аналитик данных, заработать опыт и уже потом двигаться дальше."
      ]
    },
    {
      "cell_type": "code",
      "execution_count": 51,
      "id": "59bf3957",
      "metadata": {},
      "outputs": [],
      "source": [
        "# Интересно дополнительно узнать насколько для работадателя является обязательным наличие высшего образования\n",
        "# на позиции связанные с данными\n",
        "\n",
        "query_data_specialist_vacancy = '''select *\n",
        "                                    from vacancies\n",
        "                                    where lower(name) like '%данн%' \n",
        "                                    or lower(name) like  '%data%' '''"
      ]
    },
    {
      "cell_type": "code",
      "execution_count": 57,
      "id": "c76fa1c5",
      "metadata": {},
      "outputs": [
        {
          "name": "stdout",
          "output_type": "stream",
          "text": [
            "Количество вакансий связанные с работой с данными в которых работадатели \n",
            " указали наличие высшего образования 0.28% от общего количества таких вакансий\n"
          ]
        }
      ],
      "source": [
        "# проводим необходимые исследования в данных\n",
        "data_specialist_df = pd.read_sql_query(query_data_specialist_vacancy, connection)\n",
        "\n",
        "data_specialist_df['key_skills'].fillna('', inplace=True)\n",
        "\n",
        "# находим вакансии где указано высшее образование\n",
        "higher_education = data_specialist_df[data_specialist_df\n",
        "                                      .key_skills.str.contains('высшее образование', case=False)].shape[0]\n",
        "\n",
        "portion_of_higher_education = higher_education / data_specialist_df.shape[0]\n",
        "\n",
        "print('Количество вакансий связанные с работой с данными в которых работадатели \\n указали '\n",
        "    f'наличие высшего образования {portion_of_higher_education * 100:.2f}% от общего количества таких вакансий')"
      ]
    },
    {
      "cell_type": "code",
      "execution_count": 6,
      "id": "b61222dc",
      "metadata": {},
      "outputs": [],
      "source": [
        "# Выясняем, а по каким сферам в основном представлены вакансии работадателей\n",
        "# предварительно создаем вложенный запрос с работадателями и сферами в которых они работают.\n",
        "# поскольку один работадатель может иметь несколько сфер, пришлось агрегировать сферы через string_agg\n",
        "# очень полезная функция на практике не раз выручала, странно но в курсе она представлена не была\n",
        "# ну и затем получившуюся таблицу сфер и работадателей присоединяем к таблице с вакансиями\n",
        "query_industry_vacancy_qty = '''select \n",
        "                                    coalesce(emp_inds.industry_group, 'Сфера деятельности не указана') as industry_group\n",
        "                                    ,count(distinct vac.id) vacancy_qty\n",
        "                                from vacancies vac\n",
        "                                    join \n",
        "                                        (select \n",
        "                                            emp.id\n",
        "                                            ,string_agg(ind.name, ';') industry_group\n",
        "                                        from employers emp \n",
        "                                            left join employers_industries emp_ind on emp_ind.employer_id = emp.id\n",
        "                                            left join industries ind on ind.id = emp_ind.industry_id\n",
        "                                        group by 1) emp_inds\n",
        "                                    on emp_inds.id = vac.employer_id\n",
        "                                group by 1\n",
        "                                order by 2 desc'''"
      ]
    },
    {
      "cell_type": "code",
      "execution_count": 34,
      "id": "902791fa",
      "metadata": {},
      "outputs": [
        {
          "data": {
            "application/vnd.plotly.v1+json": {
              "config": {
                "plotlyServerURL": "https://plot.ly"
              },
              "data": [
                {
                  "alignmentgroup": "True",
                  "hovertemplate": "industry_group_short=%{x}<br>vacancy_qty=%{y}<extra></extra>",
                  "legendgroup": "",
                  "marker": {
                    "color": "#636efa",
                    "pattern": {
                      "shape": ""
                    }
                  },
                  "name": "",
                  "offsetgroup": "",
                  "orientation": "v",
                  "showlegend": false,
                  "textposition": "auto",
                  "type": "bar",
                  "x": [
                    "Сфера деятельности не указана",
                    "Разработка программного обеспе",
                    "Системная интеграция,  автомат",
                    "Интернет-компания (поисковики,",
                    "Банк",
                    "Кадровые агентства",
                    "Мобильная связь",
                    "Мобильная связь;Оптоволоконная",
                    "Коллекторская деятельность;Бан",
                    "ГСМ, топливо (продвижение, опт",
                    "Финансово-кредитное посредниче",
                    "Розничная сеть (продуктовая)",
                    "Государственные организации",
                    "Маркетинговые, рекламные, BTL,",
                    "Лечебно-профилактические учреж",
                    "Складские услуги;Курьерская, п",
                    "Транспортно-логистические комп",
                    "Страхование, перестрахование",
                    "Консалтинговые услуги"
                  ],
                  "xaxis": "x",
                  "y": [
                    10084,
                    6822,
                    5250,
                    3626,
                    1842,
                    740,
                    621,
                    491,
                    444,
                    331,
                    252,
                    217,
                    208,
                    185,
                    179,
                    175,
                    161,
                    153,
                    141
                  ],
                  "yaxis": "y"
                }
              ],
              "layout": {
                "barmode": "relative",
                "height": 700,
                "legend": {
                  "tracegroupgap": 0
                },
                "template": {
                  "data": {
                    "bar": [
                      {
                        "error_x": {
                          "color": "#2a3f5f"
                        },
                        "error_y": {
                          "color": "#2a3f5f"
                        },
                        "marker": {
                          "line": {
                            "color": "#E5ECF6",
                            "width": 0.5
                          },
                          "pattern": {
                            "fillmode": "overlay",
                            "size": 10,
                            "solidity": 0.2
                          }
                        },
                        "type": "bar"
                      }
                    ],
                    "barpolar": [
                      {
                        "marker": {
                          "line": {
                            "color": "#E5ECF6",
                            "width": 0.5
                          },
                          "pattern": {
                            "fillmode": "overlay",
                            "size": 10,
                            "solidity": 0.2
                          }
                        },
                        "type": "barpolar"
                      }
                    ],
                    "carpet": [
                      {
                        "aaxis": {
                          "endlinecolor": "#2a3f5f",
                          "gridcolor": "white",
                          "linecolor": "white",
                          "minorgridcolor": "white",
                          "startlinecolor": "#2a3f5f"
                        },
                        "baxis": {
                          "endlinecolor": "#2a3f5f",
                          "gridcolor": "white",
                          "linecolor": "white",
                          "minorgridcolor": "white",
                          "startlinecolor": "#2a3f5f"
                        },
                        "type": "carpet"
                      }
                    ],
                    "choropleth": [
                      {
                        "colorbar": {
                          "outlinewidth": 0,
                          "ticks": ""
                        },
                        "type": "choropleth"
                      }
                    ],
                    "contour": [
                      {
                        "colorbar": {
                          "outlinewidth": 0,
                          "ticks": ""
                        },
                        "colorscale": [
                          [
                            0,
                            "#0d0887"
                          ],
                          [
                            0.1111111111111111,
                            "#46039f"
                          ],
                          [
                            0.2222222222222222,
                            "#7201a8"
                          ],
                          [
                            0.3333333333333333,
                            "#9c179e"
                          ],
                          [
                            0.4444444444444444,
                            "#bd3786"
                          ],
                          [
                            0.5555555555555556,
                            "#d8576b"
                          ],
                          [
                            0.6666666666666666,
                            "#ed7953"
                          ],
                          [
                            0.7777777777777778,
                            "#fb9f3a"
                          ],
                          [
                            0.8888888888888888,
                            "#fdca26"
                          ],
                          [
                            1,
                            "#f0f921"
                          ]
                        ],
                        "type": "contour"
                      }
                    ],
                    "contourcarpet": [
                      {
                        "colorbar": {
                          "outlinewidth": 0,
                          "ticks": ""
                        },
                        "type": "contourcarpet"
                      }
                    ],
                    "heatmap": [
                      {
                        "colorbar": {
                          "outlinewidth": 0,
                          "ticks": ""
                        },
                        "colorscale": [
                          [
                            0,
                            "#0d0887"
                          ],
                          [
                            0.1111111111111111,
                            "#46039f"
                          ],
                          [
                            0.2222222222222222,
                            "#7201a8"
                          ],
                          [
                            0.3333333333333333,
                            "#9c179e"
                          ],
                          [
                            0.4444444444444444,
                            "#bd3786"
                          ],
                          [
                            0.5555555555555556,
                            "#d8576b"
                          ],
                          [
                            0.6666666666666666,
                            "#ed7953"
                          ],
                          [
                            0.7777777777777778,
                            "#fb9f3a"
                          ],
                          [
                            0.8888888888888888,
                            "#fdca26"
                          ],
                          [
                            1,
                            "#f0f921"
                          ]
                        ],
                        "type": "heatmap"
                      }
                    ],
                    "heatmapgl": [
                      {
                        "colorbar": {
                          "outlinewidth": 0,
                          "ticks": ""
                        },
                        "colorscale": [
                          [
                            0,
                            "#0d0887"
                          ],
                          [
                            0.1111111111111111,
                            "#46039f"
                          ],
                          [
                            0.2222222222222222,
                            "#7201a8"
                          ],
                          [
                            0.3333333333333333,
                            "#9c179e"
                          ],
                          [
                            0.4444444444444444,
                            "#bd3786"
                          ],
                          [
                            0.5555555555555556,
                            "#d8576b"
                          ],
                          [
                            0.6666666666666666,
                            "#ed7953"
                          ],
                          [
                            0.7777777777777778,
                            "#fb9f3a"
                          ],
                          [
                            0.8888888888888888,
                            "#fdca26"
                          ],
                          [
                            1,
                            "#f0f921"
                          ]
                        ],
                        "type": "heatmapgl"
                      }
                    ],
                    "histogram": [
                      {
                        "marker": {
                          "pattern": {
                            "fillmode": "overlay",
                            "size": 10,
                            "solidity": 0.2
                          }
                        },
                        "type": "histogram"
                      }
                    ],
                    "histogram2d": [
                      {
                        "colorbar": {
                          "outlinewidth": 0,
                          "ticks": ""
                        },
                        "colorscale": [
                          [
                            0,
                            "#0d0887"
                          ],
                          [
                            0.1111111111111111,
                            "#46039f"
                          ],
                          [
                            0.2222222222222222,
                            "#7201a8"
                          ],
                          [
                            0.3333333333333333,
                            "#9c179e"
                          ],
                          [
                            0.4444444444444444,
                            "#bd3786"
                          ],
                          [
                            0.5555555555555556,
                            "#d8576b"
                          ],
                          [
                            0.6666666666666666,
                            "#ed7953"
                          ],
                          [
                            0.7777777777777778,
                            "#fb9f3a"
                          ],
                          [
                            0.8888888888888888,
                            "#fdca26"
                          ],
                          [
                            1,
                            "#f0f921"
                          ]
                        ],
                        "type": "histogram2d"
                      }
                    ],
                    "histogram2dcontour": [
                      {
                        "colorbar": {
                          "outlinewidth": 0,
                          "ticks": ""
                        },
                        "colorscale": [
                          [
                            0,
                            "#0d0887"
                          ],
                          [
                            0.1111111111111111,
                            "#46039f"
                          ],
                          [
                            0.2222222222222222,
                            "#7201a8"
                          ],
                          [
                            0.3333333333333333,
                            "#9c179e"
                          ],
                          [
                            0.4444444444444444,
                            "#bd3786"
                          ],
                          [
                            0.5555555555555556,
                            "#d8576b"
                          ],
                          [
                            0.6666666666666666,
                            "#ed7953"
                          ],
                          [
                            0.7777777777777778,
                            "#fb9f3a"
                          ],
                          [
                            0.8888888888888888,
                            "#fdca26"
                          ],
                          [
                            1,
                            "#f0f921"
                          ]
                        ],
                        "type": "histogram2dcontour"
                      }
                    ],
                    "mesh3d": [
                      {
                        "colorbar": {
                          "outlinewidth": 0,
                          "ticks": ""
                        },
                        "type": "mesh3d"
                      }
                    ],
                    "parcoords": [
                      {
                        "line": {
                          "colorbar": {
                            "outlinewidth": 0,
                            "ticks": ""
                          }
                        },
                        "type": "parcoords"
                      }
                    ],
                    "pie": [
                      {
                        "automargin": true,
                        "type": "pie"
                      }
                    ],
                    "scatter": [
                      {
                        "fillpattern": {
                          "fillmode": "overlay",
                          "size": 10,
                          "solidity": 0.2
                        },
                        "type": "scatter"
                      }
                    ],
                    "scatter3d": [
                      {
                        "line": {
                          "colorbar": {
                            "outlinewidth": 0,
                            "ticks": ""
                          }
                        },
                        "marker": {
                          "colorbar": {
                            "outlinewidth": 0,
                            "ticks": ""
                          }
                        },
                        "type": "scatter3d"
                      }
                    ],
                    "scattercarpet": [
                      {
                        "marker": {
                          "colorbar": {
                            "outlinewidth": 0,
                            "ticks": ""
                          }
                        },
                        "type": "scattercarpet"
                      }
                    ],
                    "scattergeo": [
                      {
                        "marker": {
                          "colorbar": {
                            "outlinewidth": 0,
                            "ticks": ""
                          }
                        },
                        "type": "scattergeo"
                      }
                    ],
                    "scattergl": [
                      {
                        "marker": {
                          "colorbar": {
                            "outlinewidth": 0,
                            "ticks": ""
                          }
                        },
                        "type": "scattergl"
                      }
                    ],
                    "scattermapbox": [
                      {
                        "marker": {
                          "colorbar": {
                            "outlinewidth": 0,
                            "ticks": ""
                          }
                        },
                        "type": "scattermapbox"
                      }
                    ],
                    "scatterpolar": [
                      {
                        "marker": {
                          "colorbar": {
                            "outlinewidth": 0,
                            "ticks": ""
                          }
                        },
                        "type": "scatterpolar"
                      }
                    ],
                    "scatterpolargl": [
                      {
                        "marker": {
                          "colorbar": {
                            "outlinewidth": 0,
                            "ticks": ""
                          }
                        },
                        "type": "scatterpolargl"
                      }
                    ],
                    "scatterternary": [
                      {
                        "marker": {
                          "colorbar": {
                            "outlinewidth": 0,
                            "ticks": ""
                          }
                        },
                        "type": "scatterternary"
                      }
                    ],
                    "surface": [
                      {
                        "colorbar": {
                          "outlinewidth": 0,
                          "ticks": ""
                        },
                        "colorscale": [
                          [
                            0,
                            "#0d0887"
                          ],
                          [
                            0.1111111111111111,
                            "#46039f"
                          ],
                          [
                            0.2222222222222222,
                            "#7201a8"
                          ],
                          [
                            0.3333333333333333,
                            "#9c179e"
                          ],
                          [
                            0.4444444444444444,
                            "#bd3786"
                          ],
                          [
                            0.5555555555555556,
                            "#d8576b"
                          ],
                          [
                            0.6666666666666666,
                            "#ed7953"
                          ],
                          [
                            0.7777777777777778,
                            "#fb9f3a"
                          ],
                          [
                            0.8888888888888888,
                            "#fdca26"
                          ],
                          [
                            1,
                            "#f0f921"
                          ]
                        ],
                        "type": "surface"
                      }
                    ],
                    "table": [
                      {
                        "cells": {
                          "fill": {
                            "color": "#EBF0F8"
                          },
                          "line": {
                            "color": "white"
                          }
                        },
                        "header": {
                          "fill": {
                            "color": "#C8D4E3"
                          },
                          "line": {
                            "color": "white"
                          }
                        },
                        "type": "table"
                      }
                    ]
                  },
                  "layout": {
                    "annotationdefaults": {
                      "arrowcolor": "#2a3f5f",
                      "arrowhead": 0,
                      "arrowwidth": 1
                    },
                    "autotypenumbers": "strict",
                    "coloraxis": {
                      "colorbar": {
                        "outlinewidth": 0,
                        "ticks": ""
                      }
                    },
                    "colorscale": {
                      "diverging": [
                        [
                          0,
                          "#8e0152"
                        ],
                        [
                          0.1,
                          "#c51b7d"
                        ],
                        [
                          0.2,
                          "#de77ae"
                        ],
                        [
                          0.3,
                          "#f1b6da"
                        ],
                        [
                          0.4,
                          "#fde0ef"
                        ],
                        [
                          0.5,
                          "#f7f7f7"
                        ],
                        [
                          0.6,
                          "#e6f5d0"
                        ],
                        [
                          0.7,
                          "#b8e186"
                        ],
                        [
                          0.8,
                          "#7fbc41"
                        ],
                        [
                          0.9,
                          "#4d9221"
                        ],
                        [
                          1,
                          "#276419"
                        ]
                      ],
                      "sequential": [
                        [
                          0,
                          "#0d0887"
                        ],
                        [
                          0.1111111111111111,
                          "#46039f"
                        ],
                        [
                          0.2222222222222222,
                          "#7201a8"
                        ],
                        [
                          0.3333333333333333,
                          "#9c179e"
                        ],
                        [
                          0.4444444444444444,
                          "#bd3786"
                        ],
                        [
                          0.5555555555555556,
                          "#d8576b"
                        ],
                        [
                          0.6666666666666666,
                          "#ed7953"
                        ],
                        [
                          0.7777777777777778,
                          "#fb9f3a"
                        ],
                        [
                          0.8888888888888888,
                          "#fdca26"
                        ],
                        [
                          1,
                          "#f0f921"
                        ]
                      ],
                      "sequentialminus": [
                        [
                          0,
                          "#0d0887"
                        ],
                        [
                          0.1111111111111111,
                          "#46039f"
                        ],
                        [
                          0.2222222222222222,
                          "#7201a8"
                        ],
                        [
                          0.3333333333333333,
                          "#9c179e"
                        ],
                        [
                          0.4444444444444444,
                          "#bd3786"
                        ],
                        [
                          0.5555555555555556,
                          "#d8576b"
                        ],
                        [
                          0.6666666666666666,
                          "#ed7953"
                        ],
                        [
                          0.7777777777777778,
                          "#fb9f3a"
                        ],
                        [
                          0.8888888888888888,
                          "#fdca26"
                        ],
                        [
                          1,
                          "#f0f921"
                        ]
                      ]
                    },
                    "colorway": [
                      "#636efa",
                      "#EF553B",
                      "#00cc96",
                      "#ab63fa",
                      "#FFA15A",
                      "#19d3f3",
                      "#FF6692",
                      "#B6E880",
                      "#FF97FF",
                      "#FECB52"
                    ],
                    "font": {
                      "color": "#2a3f5f"
                    },
                    "geo": {
                      "bgcolor": "white",
                      "lakecolor": "white",
                      "landcolor": "#E5ECF6",
                      "showlakes": true,
                      "showland": true,
                      "subunitcolor": "white"
                    },
                    "hoverlabel": {
                      "align": "left"
                    },
                    "hovermode": "closest",
                    "mapbox": {
                      "style": "light"
                    },
                    "paper_bgcolor": "white",
                    "plot_bgcolor": "#E5ECF6",
                    "polar": {
                      "angularaxis": {
                        "gridcolor": "white",
                        "linecolor": "white",
                        "ticks": ""
                      },
                      "bgcolor": "#E5ECF6",
                      "radialaxis": {
                        "gridcolor": "white",
                        "linecolor": "white",
                        "ticks": ""
                      }
                    },
                    "scene": {
                      "xaxis": {
                        "backgroundcolor": "#E5ECF6",
                        "gridcolor": "white",
                        "gridwidth": 2,
                        "linecolor": "white",
                        "showbackground": true,
                        "ticks": "",
                        "zerolinecolor": "white"
                      },
                      "yaxis": {
                        "backgroundcolor": "#E5ECF6",
                        "gridcolor": "white",
                        "gridwidth": 2,
                        "linecolor": "white",
                        "showbackground": true,
                        "ticks": "",
                        "zerolinecolor": "white"
                      },
                      "zaxis": {
                        "backgroundcolor": "#E5ECF6",
                        "gridcolor": "white",
                        "gridwidth": 2,
                        "linecolor": "white",
                        "showbackground": true,
                        "ticks": "",
                        "zerolinecolor": "white"
                      }
                    },
                    "shapedefaults": {
                      "line": {
                        "color": "#2a3f5f"
                      }
                    },
                    "ternary": {
                      "aaxis": {
                        "gridcolor": "white",
                        "linecolor": "white",
                        "ticks": ""
                      },
                      "baxis": {
                        "gridcolor": "white",
                        "linecolor": "white",
                        "ticks": ""
                      },
                      "bgcolor": "#E5ECF6",
                      "caxis": {
                        "gridcolor": "white",
                        "linecolor": "white",
                        "ticks": ""
                      }
                    },
                    "title": {
                      "x": 0.05
                    },
                    "xaxis": {
                      "automargin": true,
                      "gridcolor": "white",
                      "linecolor": "white",
                      "ticks": "",
                      "title": {
                        "standoff": 15
                      },
                      "zerolinecolor": "white",
                      "zerolinewidth": 2
                    },
                    "yaxis": {
                      "automargin": true,
                      "gridcolor": "white",
                      "linecolor": "white",
                      "ticks": "",
                      "title": {
                        "standoff": 15
                      },
                      "zerolinecolor": "white",
                      "zerolinewidth": 2
                    }
                  }
                },
                "title": {
                  "text": "Количество вакансий по сферам"
                },
                "xaxis": {
                  "anchor": "y",
                  "domain": [
                    0,
                    1
                  ],
                  "tickfont": {
                    "size": 6
                  },
                  "ticklen": 1,
                  "title": {
                    "text": "industry_group_short"
                  }
                },
                "yaxis": {
                  "anchor": "x",
                  "domain": [
                    0,
                    1
                  ],
                  "tickfont": {
                    "size": 6
                  },
                  "ticklen": 1,
                  "title": {
                    "text": "vacancy_qty"
                  }
                }
              }
            }
          },
          "metadata": {},
          "output_type": "display_data"
        }
      ],
      "source": [
        "# датасет достаточно массивный, решил сделать фокус на самых крупных\n",
        "industry_vacancy_qty = pd.read_sql_query(query_industry_vacancy_qty, connection )\n",
        "vac_ttl = industry_vacancy_qty.vacancy_qty.sum()\n",
        "vac_sixty_five_perc = vac_ttl * 0.65 # не совсем правило Парето но очень близко к нему :)\n",
        "# выбираем только самые крупные сферы из нашего датасета\n",
        "industry_vacancy_qty = industry_vacancy_qty[industry_vacancy_qty.vacancy_qty.cumsum() <= vac_sixty_five_perc]\n",
        "\n",
        "#создаем колонку с укороченным названием сферы\n",
        "industry_vacancy_qty['industry_group_short'] = industry_vacancy_qty.industry_group.str[0:30] \n",
        "# вновь группируем по коротким названиям сфер в новый датасет\n",
        "industry_vac_short = industry_vacancy_qty.groupby('industry_group_short', as_index=False)['vacancy_qty'].sum() \n",
        "# сортируем новый датасет\n",
        "industry_vac_short.sort_values(by='vacancy_qty', ascending=False, inplace=True)\n",
        "\n",
        "fig = px.bar(industry_vac_short, \n",
        "             x='industry_group_short',\n",
        "             y='vacancy_qty',\n",
        "             height=700\n",
        "             ,title='Количество вакансий по сферам')\n",
        "\n",
        "fig.update_layout(\n",
        "    xaxis=dict(\n",
        "        tickfont=dict(\n",
        "            size=6,  # Установка размера подписей делений\n",
        "        ),\n",
        "        ticklen=1,        # Установка длины делений\n",
        "    ),\n",
        "    yaxis=dict(\n",
        "        tickfont=dict(\n",
        "            size=6,  # Установка размера подписей делений\n",
        "        ),\n",
        "        ticklen=1,  # Установка длины делений\n",
        "    )\n",
        ")\n",
        "\n",
        "connection.close()"
      ]
    },
    {
      "cell_type": "markdown",
      "id": "6c97eeb7",
      "metadata": {},
      "source": [
        "Как видно из дополнительного анализа, наличие высшего образование почти не играет никакой роли в сфере работы с данными.\n",
        "Большая часть вакансий в нашей базе так или иначе относится к сфере IT, тут и разработчики и аналитики и банки и много другое. Также видно, что есть огромная часть неопределившихся работадателей (чем они занимаются они не указывают), для протенциального кандидата, ситуация выглядит следующим образом, видно, что технологическая эра приближается с высокой скоростью, работадателям требуется все большее и большее количество работников, которые будут способны выполнять все более сложные технические задачи, поэтому на первый план выходят знания кандидатов, ставку работадатели делают именно на качество знаний и количество технологий, больше чем на документальные подтверждения, т.к. это не всегда одно и тоже.\n"
      ]
    }
  ],
  "metadata": {
    "colab": {
      "collapsed_sections": [
        "8d62a9f3-f64e-4fe7-bdac-c4dffa16155e"
      ],
      "provenance": []
    },
    "kernelspec": {
      "display_name": "Python 3 (ipykernel)",
      "language": "python",
      "name": "python3"
    },
    "language_info": {
      "codemirror_mode": {
        "name": "ipython",
        "version": 3
      },
      "file_extension": ".py",
      "mimetype": "text/x-python",
      "name": "python",
      "nbconvert_exporter": "python",
      "pygments_lexer": "ipython3",
      "version": "3.11.4"
    }
  },
  "nbformat": 4,
  "nbformat_minor": 5
}
